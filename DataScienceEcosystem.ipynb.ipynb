{
 "cells": [
  {
   "cell_type": "markdown",
   "id": "809cbcb8-eb09-4c24-a0ed-7d8c6f0800e1",
   "metadata": {},
   "source": [
    "# Data Science Tools and Ecosystem"
   ]
  },
  {
   "cell_type": "markdown",
   "id": "cfc99f1f-921e-4258-8941-f2ef4eff2a43",
   "metadata": {},
   "source": [
    "### In this notebook, Data Science Tools and Ecosystem are summarized."
   ]
  },
  {
   "cell_type": "markdown",
   "id": "4a6ac0d6-0a02-49e0-888e-b5e0dad317ce",
   "metadata": {
    "tags": []
   },
   "source": [
    "### Some of the popular languages that Data Scientists use are:\n",
    "1. Python\n",
    "2. R\n",
    "3. Scala"
   ]
  },
  {
   "cell_type": "markdown",
   "id": "bfe44b4c-547d-4ef9-9e5c-a67a90e70ec7",
   "metadata": {},
   "source": [
    "### Some of the commonly used libraries used by Data Scientists include:\n",
    " 1. Matplotlib\n",
    " 2. NumPy\n",
    " 3. TensorFlow\n",
    " 4. PyTorch\n",
    " \n",
    "\n"
   ]
  },
  {
   "cell_type": "markdown",
   "id": "e9fb4691-e206-48ee-a07f-4eee0575ea4b",
   "metadata": {},
   "source": [
    "|Data Science Tools|\n",
    " ------------------\n",
    "  |Rstudio|\n",
    "|TensorFlow|\n",
    "|ApacheSpark|\n",
    "\n",
    " "
   ]
  },
  {
   "cell_type": "markdown",
   "id": "5d7652a6-a56c-4635-af1d-99e1df29766c",
   "metadata": {
    "tags": []
   },
   "source": [
    "### Below are a few examples of evaluating arithmetic expressions in Python.\n",
    "\n"
   ]
  },
  {
   "cell_type": "code",
   "execution_count": 3,
   "id": "6065352e-6da9-4796-ab1e-b8413cc100de",
   "metadata": {
    "tags": []
   },
   "outputs": [
    {
     "data": {
      "text/plain": [
       "17"
      ]
     },
     "execution_count": 3,
     "metadata": {},
     "output_type": "execute_result"
    }
   ],
   "source": [
    "(3*4)+5\n",
    "#this a simple arithmetic expression to mutiply then add integers"
   ]
  },
  {
   "cell_type": "code",
   "execution_count": 4,
   "id": "85e3a53c-7937-45da-9358-76b1c969b399",
   "metadata": {
    "tags": []
   },
   "outputs": [
    {
     "data": {
      "text/plain": [
       "3.3333333333333335"
      ]
     },
     "execution_count": 4,
     "metadata": {},
     "output_type": "execute_result"
    }
   ],
   "source": [
    "(200/60)\n",
    "#This will convert 200 minutes to hours by diving by 60"
   ]
  },
  {
   "cell_type": "markdown",
   "id": "c1f93bc6-1dcb-4c14-8b71-dc757f0b22ba",
   "metadata": {
    "tags": []
   },
   "source": [
    "**Objectives**\n",
    "- List of data science open source tools\n",
    "- List of data science languages\n",
    "- list of data science libraries"
   ]
  },
  {
   "cell_type": "markdown",
   "id": "996fcc44-4075-4040-898d-955c2982d1f4",
   "metadata": {
    "tags": []
   },
   "source": [
    "## Author\n",
    "Sandhya Sharma"
   ]
  },
  {
   "cell_type": "code",
   "execution_count": null,
   "id": "d9d99209-d6f8-47be-989a-29107342181d",
   "metadata": {},
   "outputs": [],
   "source": []
  }
 ],
 "metadata": {
  "kernelspec": {
   "display_name": "Python",
   "language": "python",
   "name": "conda-env-python-py"
  },
  "language_info": {
   "codemirror_mode": {
    "name": "ipython",
    "version": 3
   },
   "file_extension": ".py",
   "mimetype": "text/x-python",
   "name": "python",
   "nbconvert_exporter": "python",
   "pygments_lexer": "ipython3",
   "version": "3.7.12"
  }
 },
 "nbformat": 4,
 "nbformat_minor": 5
}
